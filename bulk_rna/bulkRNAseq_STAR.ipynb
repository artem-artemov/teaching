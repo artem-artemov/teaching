{
 "cells": [
  {
   "cell_type": "markdown",
   "metadata": {},
   "source": [
    "# Download STAR and HTSeq - only for google colab"
   ]
  },
  {
   "cell_type": "code",
   "execution_count": null,
   "metadata": {
    "colab": {
     "base_uri": "https://localhost:8080/"
    },
    "id": "XDMPY3xmdavn",
    "outputId": "7b0f5520-822c-4e44-b69d-4ad557aa9838"
   },
   "outputs": [],
   "source": [
    "#%%bash\n",
    "\n",
    "#wget https://github.com/alexdobin/STAR/raw/master/bin/Linux_x86_64_static/STAR\n",
    "#chmod a+x STAR"
   ]
  },
  {
   "cell_type": "code",
   "execution_count": null,
   "metadata": {
    "colab": {
     "base_uri": "https://localhost:8080/"
    },
    "id": "1_ksZHXMhKxv",
    "outputId": "1e5bd73c-2c1d-4731-8228-6cf17160f9b5"
   },
   "outputs": [
    {
     "name": "stdout",
     "output_type": "stream",
     "text": [
      "Collecting HTSeq\n",
      "  Downloading https://files.pythonhosted.org/packages/53/ca/287519f54993e1ed1d7fcd773baac8a05d710b90b7ca5970c4664c686810/HTSeq-0.12.4-cp36-cp36m-manylinux2010_x86_64.whl (1.4MB)\n",
      "Collecting pysam\n",
      "  Downloading https://files.pythonhosted.org/packages/87/a1/73e80a7a873f3fb0e52d368a4343eb9882b737c932b95020d82251f1087e/pysam-0.16.0.1-cp36-cp36m-manylinux1_x86_64.whl (9.9MB)\n",
      "Requirement already satisfied: numpy in /usr/local/lib/python3.6/dist-packages (from HTSeq) (1.18.5)\n",
      "Installing collected packages: pysam, HTSeq\n",
      "Successfully installed HTSeq-0.12.4 pysam-0.16.0.1\n"
     ]
    }
   ],
   "source": [
    "#%%bash\n",
    "\n",
    "#pip install HTSeq\n"
   ]
  },
  {
   "cell_type": "markdown",
   "metadata": {},
   "source": [
    "# Load fastq data\n",
    "\n",
    "This is a toy example, only includes chr1"
   ]
  },
  {
   "cell_type": "code",
   "execution_count": null,
   "metadata": {
    "colab": {
     "base_uri": "https://localhost:8080/"
    },
    "id": "Iyq69dEldpmg",
    "outputId": "57d5b0c4-7398-41a9-d4a8-965cd46a1447"
   },
   "outputs": [],
   "source": [
    "%%bash\n",
    "wget https://adameykolab.srv.meduniwien.ac.at/share/teaching/bulkRNAseq/fastq_small/SRR3051643_1.fastq.gz\n",
    "wget https://adameykolab.srv.meduniwien.ac.at/share/teaching/bulkRNAseq/fastq_small/SRR3051643_2.fastq.gz\n",
    "\n",
    "wget https://adameykolab.srv.meduniwien.ac.at/share/teaching/bulkRNAseq/fastq_small/SRR3051648_1.fastq.gz\n",
    "wget https://adameykolab.srv.meduniwien.ac.at/share/teaching/bulkRNAseq/fastq_small/SRR3051648_2.fastq.gz"
   ]
  },
  {
   "cell_type": "code",
   "execution_count": 3,
   "metadata": {
    "id": "fV8j2dvGdlRe"
   },
   "outputs": [],
   "source": [
    "%%bash\n",
    "gunzip *.fastq.gz"
   ]
  },
  {
   "cell_type": "markdown",
   "metadata": {},
   "source": [
    "# Building genome index for STAR\n",
    "\n",
    "We will only include chromosome 1 (otherwise, STAR will require 30Gb of RAM, it's more than colab offers). Remove this parameter to work with the whole genome: --genomeSAindexNbases 12 "
   ]
  },
  {
   "cell_type": "code",
   "execution_count": null,
   "metadata": {
    "colab": {
     "base_uri": "https://localhost:8080/"
    },
    "id": "6aTEN7Xid4DG",
    "outputId": "aae5e4a6-8818-4057-d5dd-939b24d429e6"
   },
   "outputs": [],
   "source": [
    "%%bash\n",
    "\n",
    "mkdir genome/\n",
    "mkdir genome/mm10/\n",
    "\n",
    "#load genome sequence - only chromosome 1\n",
    "wget -O genome/mm10/chr1.fa.gz http://hgdownload.cse.ucsc.edu/goldenpath/mm10/chromosomes/chr1.fa.gz\n",
    "gunzip genome/mm10/chr1.fa.gz"
   ]
  },
  {
   "cell_type": "code",
   "execution_count": null,
   "metadata": {
    "colab": {
     "base_uri": "https://localhost:8080/"
    },
    "id": "xvOcGTqQjiQw",
    "outputId": "a9b0cfe9-f6c0-41e0-b6f0-947f76eab574"
   },
   "outputs": [],
   "source": [
    "%%bash\n",
    "\n",
    "#gene annotation - only chromosome 1\n",
    "wget https://adameykolab.srv.meduniwien.ac.at/share/teaching/bulkRNAseq/genes.mm10_chr.chr1.gtf"
   ]
  },
  {
   "cell_type": "code",
   "execution_count": 7,
   "metadata": {
    "id": "grJLsLwbeGOR"
   },
   "outputs": [
    {
     "name": "stdout",
     "output_type": "stream",
     "text": [
      "Dec 14 02:33:51 ..... started STAR run\n",
      "Dec 14 02:33:51 ... starting to generate Genome files\n",
      "Dec 14 02:33:55 ... starting to sort Suffix Array. This may take a long time...\n",
      "Dec 14 02:33:57 ... sorting Suffix Array chunks and saving them to disk...\n",
      "Dec 14 02:36:50 ... loading chunks from disk, packing SA...\n",
      "Dec 14 02:36:54 ... finished generating suffix array\n",
      "Dec 14 02:36:54 ... generating Suffix Array index\n",
      "Dec 14 02:37:07 ... completed Suffix Array index\n",
      "Dec 14 02:37:07 ... writing Genome to disk ...\n",
      "Dec 14 02:37:07 ... writing Suffix Array to disk ...\n",
      "Dec 14 02:37:08 ... writing SAindex to disk\n",
      "Dec 14 02:37:08 ..... finished successfully\n"
     ]
    },
    {
     "name": "stderr",
     "output_type": "stream",
     "text": [
      "mkdir: genome/mm10/star: File exists\n"
     ]
    }
   ],
   "source": [
    "%%bash\n",
    "\n",
    "#build index\n",
    "\n",
    "mkdir genome/mm10/star\n",
    "STAR --runThreadN 4 --limitGenomeGenerateRAM 10000000000 --genomeSAindexNbases 12 --runMode genomeGenerate --genomeDir genome/mm10/star --genomeFastaFiles genome/mm10/chr1.fa"
   ]
  },
  {
   "cell_type": "code",
   "execution_count": null,
   "metadata": {
    "id": "5Mmy0Nd-e4us"
   },
   "outputs": [],
   "source": []
  },
  {
   "cell_type": "markdown",
   "metadata": {
    "id": "ZZSd8HOMfBiX"
   },
   "source": [
    "# Mapping with STAR"
   ]
  },
  {
   "cell_type": "code",
   "execution_count": 9,
   "metadata": {
    "id": "j2hgwJJVfEza"
   },
   "outputs": [
    {
     "name": "stdout",
     "output_type": "stream",
     "text": [
      "Dec 14 02:37:23 ..... started STAR run\n",
      "Dec 14 02:37:23 ..... loading genome\n",
      "Dec 14 02:37:25 ..... started mapping\n",
      "Dec 14 02:37:40 ..... finished mapping\n",
      "Dec 14 02:37:40 ..... started sorting BAM\n",
      "Dec 14 02:37:40 ..... finished successfully\n"
     ]
    },
    {
     "name": "stderr",
     "output_type": "stream",
     "text": [
      "mkdir: data: No such file or directory\n"
     ]
    }
   ],
   "source": [
    "%%bash\n",
    "mkdir data/bam/\n",
    "STAR --genomeDir genome/mm10/star --readFilesIn  SRR3051643_1.fastq SRR3051643_2.fastq --runThreadN 4 --outSAMtype BAM SortedByCoordinate --limitBAMsortRAM 10000000000 \\\n",
    "    --outFileNamePrefix data/bam/SRR3051643.bam"
   ]
  },
  {
   "cell_type": "code",
   "execution_count": 11,
   "metadata": {
    "id": "0pc-2AfofYWT"
   },
   "outputs": [
    {
     "name": "stdout",
     "output_type": "stream",
     "text": [
      "Dec 14 02:38:00 ..... started STAR run\n",
      "Dec 14 02:38:00 ..... loading genome\n",
      "Dec 14 02:38:01 ..... started mapping\n",
      "Dec 14 02:38:18 ..... finished mapping\n",
      "Dec 14 02:38:18 ..... started sorting BAM\n",
      "Dec 14 02:38:19 ..... finished successfully\n"
     ]
    },
    {
     "name": "stderr",
     "output_type": "stream",
     "text": [
      "mkdir: data/bam/: File exists\n"
     ]
    }
   ],
   "source": [
    "%%bash\n",
    "mkdir data/bam/\n",
    "STAR --genomeDir genome/mm10/star --readFilesIn  SRR3051648_1.fastq SRR3051648_2.fastq --runThreadN 4 --outSAMtype BAM SortedByCoordinate --limitBAMsortRAM 10000000000 \\\n",
    "    --outFileNamePrefix data/bam/SRR3051648.bam"
   ]
  },
  {
   "cell_type": "markdown",
   "metadata": {},
   "source": [
    "Workaround, in case you don't have enough RAM to run STAR:"
   ]
  },
  {
   "cell_type": "code",
   "execution_count": null,
   "metadata": {},
   "outputs": [],
   "source": [
    "#%%bash\n",
    "\n",
    "#wget -O SRR3051643.bamAligned.sortedByCoord.out.bam https://adameykolab.srv.meduniwien.ac.at/share/teaching/bulkRNAseq/bam/SRR3051643.bamAligned.sortedByCoord.out.bam\n",
    "#wget -O SRR3051648.bamAligned.sortedByCoord.out.bam https://adameykolab.srv.meduniwien.ac.at/share/teaching/bulkRNAseq/bam/SRR3051648.bamAligned.sortedByCoord.out.bam"
   ]
  },
  {
   "cell_type": "code",
   "execution_count": 1,
   "metadata": {
    "id": "Tw6B_cY-mq08"
   },
   "outputs": [],
   "source": [
    "%%bash\n",
    "#indexing bams\n",
    "samtools index data/bam/SRR3051643.bamAligned.sortedByCoord.out.bam\n",
    "samtools index data/bam/SRR3051648.bamAligned.sortedByCoord.out.bam"
   ]
  },
  {
   "cell_type": "markdown",
   "metadata": {},
   "source": [
    "# Count reads per sample per gene"
   ]
  },
  {
   "cell_type": "code",
   "execution_count": 5,
   "metadata": {
    "id": "ehprJtG7hXB5"
   },
   "outputs": [
    {
     "name": "stderr",
     "output_type": "stream",
     "text": [
      "100000 GFF lines processed.\n",
      "108828 GFF lines processed.\n",
      "Warning: Read SRR3051643.2388771 claims to have an aligned mate which could not be found in an adjacent line.\n",
      "100000 alignment record pairs processed.\n",
      "200000 alignment record pairs processed.\n",
      "300000 alignment record pairs processed.\n",
      "400000 alignment record pairs processed.\n",
      "500000 alignment record pairs processed.\n",
      "Warning: 513174 reads with missing mate encountered.\n",
      "520924 alignment pairs processed.\n",
      "Warning: Read SRR3051648.2461483 claims to have an aligned mate which could not be found in an adjacent line.\n",
      "100000 alignment record pairs processed.\n",
      "200000 alignment record pairs processed.\n",
      "300000 alignment record pairs processed.\n",
      "400000 alignment record pairs processed.\n",
      "500000 alignment record pairs processed.\n",
      "Warning: 580216 reads with missing mate encountered.\n",
      "587894 alignment pairs processed.\n"
     ]
    }
   ],
   "source": [
    "%%bash\n",
    "\n",
    "htseq-count -f bam -t gene -i gene_name  \\\n",
    "    data/bam/SRR3051643.bamAligned.sortedByCoord.out.bam \\\n",
    "    data/bam/SRR3051648.bamAligned.sortedByCoord.out.bam \\\n",
    "    genes.mm10_chr.chr1.gtf > data/counts.tab"
   ]
  },
  {
   "cell_type": "code",
   "execution_count": null,
   "metadata": {},
   "outputs": [],
   "source": []
  }
 ],
 "metadata": {
  "colab": {
   "collapsed_sections": [],
   "name": "bulkRNAseq_STAR.ipynb",
   "provenance": [],
   "toc_visible": true
  },
  "kernelspec": {
   "display_name": "Python 3",
   "language": "python",
   "name": "python3"
  },
  "language_info": {
   "codemirror_mode": {
    "name": "ipython",
    "version": 3
   },
   "file_extension": ".py",
   "mimetype": "text/x-python",
   "name": "python",
   "nbconvert_exporter": "python",
   "pygments_lexer": "ipython3",
   "version": "3.8.6"
  }
 },
 "nbformat": 4,
 "nbformat_minor": 4
}
