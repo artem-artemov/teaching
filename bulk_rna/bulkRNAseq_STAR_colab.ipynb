{
  "nbformat": 4,
  "nbformat_minor": 0,
  "metadata": {
    "colab": {
      "name": "bulkRNAseq_STAR.ipynb",
      "provenance": [],
      "collapsed_sections": [],
      "toc_visible": true
    },
    "kernelspec": {
      "name": "python3",
      "display_name": "Python 3"
    }
  },
  "cells": [
    {
      "cell_type": "code",
      "metadata": {
        "id": "XDMPY3xmdavn"
      },
      "source": [
        "%%bash\n",
        "\n",
        "wget https://github.com/alexdobin/STAR/raw/master/bin/Linux_x86_64_static/STAR\n",
        "chmod a+x STAR"
      ],
      "execution_count": null,
      "outputs": []
    },
    {
      "cell_type": "code",
      "metadata": {
        "colab": {
          "base_uri": "https://localhost:8080/"
        },
        "id": "1_ksZHXMhKxv",
        "outputId": "1e5bd73c-2c1d-4731-8228-6cf17160f9b5"
      },
      "source": [
        "%%bash\n",
        "\n",
        "pip install HTSeq\n",
        "#conda install -c bioconda samtools"
      ],
      "execution_count": null,
      "outputs": [
        {
          "output_type": "stream",
          "text": [
            "Collecting HTSeq\n",
            "  Downloading https://files.pythonhosted.org/packages/53/ca/287519f54993e1ed1d7fcd773baac8a05d710b90b7ca5970c4664c686810/HTSeq-0.12.4-cp36-cp36m-manylinux2010_x86_64.whl (1.4MB)\n",
            "Collecting pysam\n",
            "  Downloading https://files.pythonhosted.org/packages/87/a1/73e80a7a873f3fb0e52d368a4343eb9882b737c932b95020d82251f1087e/pysam-0.16.0.1-cp36-cp36m-manylinux1_x86_64.whl (9.9MB)\n",
            "Requirement already satisfied: numpy in /usr/local/lib/python3.6/dist-packages (from HTSeq) (1.18.5)\n",
            "Installing collected packages: pysam, HTSeq\n",
            "Successfully installed HTSeq-0.12.4 pysam-0.16.0.1\n"
          ],
          "name": "stdout"
        }
      ]
    },
    {
      "cell_type": "code",
      "metadata": {
        "id": "Iyq69dEldpmg"
      },
      "source": [
        "%%bash\n",
        "wget https://adameykolab.srv.meduniwien.ac.at/share/teaching/bulkRNAseq/fastq_small/SRR3051643_1.fastq.gz\n",
        "wget https://adameykolab.srv.meduniwien.ac.at/share/teaching/bulkRNAseq/fastq_small/SRR3051643_2.fastq.gz\n",
        "\n",
        "wget https://adameykolab.srv.meduniwien.ac.at/share/teaching/bulkRNAseq/fastq_small/SRR3051648_1.fastq.gz\n",
        "wget https://adameykolab.srv.meduniwien.ac.at/share/teaching/bulkRNAseq/fastq_small/SRR3051648_2.fastq.gz"
      ],
      "execution_count": null,
      "outputs": []
    },
    {
      "cell_type": "code",
      "metadata": {
        "id": "fV8j2dvGdlRe"
      },
      "source": [
        "%%bash\n",
        "gunzip *.fastq.gz"
      ],
      "execution_count": null,
      "outputs": []
    },
    {
      "cell_type": "code",
      "metadata": {
        "id": "6aTEN7Xid4DG"
      },
      "source": [
        "%%bash\n",
        "\n",
        "mkdir genome/\n",
        "mkdir genome/mm10/\n",
        "\n",
        "wget -O genome/mm10/chr1.fa.gz http://hgdownload.cse.ucsc.edu/goldenpath/mm10/chromosomes/chr1.fa.gz\n",
        "gunzip genome/mm10/chr1.fa.gz"
      ],
      "execution_count": null,
      "outputs": []
    },
    {
      "cell_type": "code",
      "metadata": {
        "id": "xvOcGTqQjiQw"
      },
      "source": [
        "%%bash\n",
        "\n",
        "#gene annotation - only chromosome 1\n",
        "wget https://adameykolab.srv.meduniwien.ac.at/share/teaching/bulkRNAseq/genes.mm10.chr1.gtf"
      ],
      "execution_count": null,
      "outputs": []
    },
    {
      "cell_type": "code",
      "metadata": {
        "id": "grJLsLwbeGOR"
      },
      "source": [
        "%%bash\n",
        "\n",
        "mkdir genome/mm10/star\n",
        "./STAR --runThreadN 4 --limitGenomeGenerateRAM 10000000000 --genomeSAindexNbases 12 --runMode genomeGenerate --genomeDir genome/mm10/star --genomeFastaFiles genome/mm10/chr1.fa"
      ],
      "execution_count": null,
      "outputs": []
    },
    {
      "cell_type": "code",
      "metadata": {
        "id": "5Mmy0Nd-e4us"
      },
      "source": [
        ""
      ],
      "execution_count": null,
      "outputs": []
    },
    {
      "cell_type": "markdown",
      "metadata": {
        "id": "ZZSd8HOMfBiX"
      },
      "source": [
        "# Mapping with STAR"
      ]
    },
    {
      "cell_type": "code",
      "metadata": {
        "id": "j2hgwJJVfEza"
      },
      "source": [
        "%%bash\n",
        "mkdir data/bam/\n",
        "./STAR --genomeDir genome/mm10/star --readFilesIn  SRR3051643_1.fastq SRR3051643_2.fastq --runThreadN 4 --outSAMtype BAM SortedByCoordinate --limitBAMsortRAM 10000000000 \\\n",
        "    --outFileNamePrefix data/bam/SRR3051643.bam"
      ],
      "execution_count": null,
      "outputs": []
    },
    {
      "cell_type": "code",
      "metadata": {
        "id": "0pc-2AfofYWT"
      },
      "source": [
        "%%bash\n",
        "mkdir data/bam/\n",
        "./STAR --genomeDir genome/mm10/star --readFilesIn  SRR3051648_1.fastq SRR3051648_2.fastq --runThreadN 4 --outSAMtype BAM SortedByCoordinate --limitBAMsortRAM 10000000000 \\\n",
        "    --outFileNamePrefix data/bam/SRR3051648.bam"
      ],
      "execution_count": null,
      "outputs": []
    },
    {
      "cell_type": "code",
      "metadata": {
        "id": "C1oZQjj1sPdd"
      },
      "source": [
        "import pysam\n",
        "pysam.index('data/bam/SRR3051643.bamAligned.sortedByCoord.out.bam')\n",
        "pysam.index('data/bam/SRR3051648.bamAligned.sortedByCoord.out.bam')"
      ],
      "execution_count": null,
      "outputs": []
    },
    {
      "cell_type": "code",
      "metadata": {
        "id": "Tw6B_cY-mq08"
      },
      "source": [
        "#%%bash\n",
        "#indexing bams\n",
        "#samtools index data/bam/SRR3051643.bamAligned.sortedByCoord.out.bam\n",
        "#samtools index data/bam/SRR3051648.bamAligned.sortedByCoord.out.bam"
      ],
      "execution_count": null,
      "outputs": []
    },
    {
      "cell_type": "code",
      "metadata": {
        "id": "ehprJtG7hXB5"
      },
      "source": [
        "%%bash\n",
        "\n",
        "htseq-count -f bam -t gene -i gene_name  \\\n",
        "    data/bam/SRR3051643.bamAligned.sortedByCoord.out.bam \\\n",
        "    data/bam/SRR3051648.bamAligned.sortedByCoord.out.bam \\\n",
        "    genes.mm10.chr1.gtf > data/counts.tab"
      ],
      "execution_count": null,
      "outputs": []
    }
  ]
}